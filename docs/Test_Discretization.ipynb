{
 "cells": [
  {
   "cell_type": "markdown",
   "metadata": {},
   "source": [
    "# This script is to check that the manage_RM module is able to deal with multiple dimension inputs."
   ]
  },
  {
   "cell_type": "markdown",
   "metadata": {},
   "source": [
    "## It is a set of very fast executing tests."
   ]
  },
  {
   "cell_type": "code",
   "execution_count": 1,
   "metadata": {},
   "outputs": [
    {
     "name": "stderr",
     "output_type": "stream",
     "text": [
      "/home/morisset/anaconda3/lib/python3.7/site-packages/sklearn/externals/joblib/__init__.py:15: DeprecationWarning: sklearn.externals.joblib is deprecated in 0.21 and will be removed in 0.23. Please import this functionality directly from joblib, which can be installed with: pip install joblib. If this warning is raised when loading pickled models, you may need to re-serialize those models with scikit-learn 0.21+.\n",
      "  warnings.warn(msg, category=DeprecationWarning)\n",
      "Using TensorFlow backend.\n"
     ]
    }
   ],
   "source": [
    "import numpy as np\n",
    "from mwinai import manage_RM"
   ]
  },
  {
   "cell_type": "code",
   "execution_count": 2,
   "metadata": {},
   "outputs": [
    {
     "name": "stdout",
     "output_type": "stream",
     "text": [
      "X1 shape: (200,)\n",
      "X2 shape: (200, 2)\n",
      "y1 shape: (200,)\n",
      "y2 shape: (200, 2)\n"
     ]
    }
   ],
   "source": [
    "n_samples=200\n",
    "\n",
    "func = 'sins'\n",
    "\n",
    "if func == 'sins':\n",
    "    X1 = np.random.randn(n_samples)\n",
    "    y1 = np.sin(X1) + np.cos(X1) + 0.1*np.random.randn(n_samples)\n",
    "    X2 = np.random.randn(n_samples, 2)\n",
    "    y2 = np.array([np.sin(X2[:,0]) + np.cos(X2[:,1]) + 0.1*np.random.randn(n_samples),\n",
    "         np.sin(X2[:,0])**2 + np.cos(X2[:,1])**2 + 0.1*np.random.randn(n_samples)]).T\n",
    "elif func == 'x24':\n",
    "    y1 = np.random.uniform(-5, 5, n_samples)\n",
    "    X1 = y1**2\n",
    "    y2 = np.random.uniform(-5, 5, (n_samples, 2))\n",
    "    X2 = np.array([y1**2, y1**4]).T\n",
    "\n",
    "print('X1 shape:', X1.shape)\n",
    "print('X2 shape:', X2.shape)\n",
    "print('y1 shape:', y1.shape)\n",
    "print('y2 shape:', y2.shape)"
   ]
  },
  {
   "cell_type": "code",
   "execution_count": 3,
   "metadata": {},
   "outputs": [],
   "source": [
    "N_y_bins = None\n",
    "y_vects = np.linspace(-5,5,41)\n",
    "\n",
    "if False:\n",
    "    N_y_bins = 41\n",
    "    y_vects = None\n",
    "\n",
    "scoring = True\n",
    "reduce_by = 'mean' #None#'mean'\n",
    "split_ratio=0.3"
   ]
  },
  {
   "cell_type": "code",
   "execution_count": 4,
   "metadata": {},
   "outputs": [
    {
     "name": "stdout",
     "output_type": "stream",
     "text": [
      "Instantiation. V 0.17\n",
      "train and test sets are obtained by splitting X_train and y_train.\n",
      "input test sets are not used.\n",
      "Training set size = 140, Test set size = 60\n",
      "Discretizing column 0 on 41 bins\n",
      "Discretizing column 0 on 41 bins\n",
      "Training set size = 140, Test set size = 60\n",
      "Regression Model SK_ANN\n",
      "WARNING: training data not scaled\n",
      "Training 1 inputs for 41 outputs with 140 data\n",
      "RM trained, with 2248 iterations. Score = 0.435\n",
      "MLPRegressor(activation='tanh', alpha=0.0001, batch_size='auto', beta_1=0.9,\n",
      "             beta_2=0.999, early_stopping=False, epsilon=1e-08,\n",
      "             hidden_layer_sizes=(10,), learning_rate='constant',\n",
      "             learning_rate_init=0.001, max_iter=200000, momentum=0.9,\n",
      "             n_iter_no_change=10, nesterovs_momentum=True, power_t=0.5,\n",
      "             random_state=None, shuffle=True, solver='lbfgs', tol=1e-05,\n",
      "             validation_fraction=0.1, verbose=False, warm_start=False)\n",
      "Training time 0.7 s.\n",
      "WARNING: test data not scaled\n",
      "Score = 0.356\n",
      "Predicting from 1 inputs to 41 outputs using 60 data in 0.00 secs.\n",
      "140 1 140 41\n"
     ]
    },
    {
     "name": "stderr",
     "output_type": "stream",
     "text": [
      "/home/morisset/anaconda3/lib/python3.7/site-packages/sklearn/base.py:420: FutureWarning: The default value of multioutput (not exposed in score method) will change from 'variance_weighted' to 'uniform_average' in 0.23 to keep consistent with 'metrics.r2_score'. To specify the default value manually and avoid the warning, please either call 'metrics.r2_score' directly or make a custom scorer with 'metrics.make_scorer' (the built-in scorer 'r2' uses multioutput='uniform_average').\n",
      "  \"multioutput='uniform_average').\", FutureWarning)\n",
      "/home/morisset/anaconda3/lib/python3.7/site-packages/sklearn/base.py:420: FutureWarning: The default value of multioutput (not exposed in score method) will change from 'variance_weighted' to 'uniform_average' in 0.23 to keep consistent with 'metrics.r2_score'. To specify the default value manually and avoid the warning, please either call 'metrics.r2_score' directly or make a custom scorer with 'metrics.make_scorer' (the built-in scorer 'r2' uses multioutput='uniform_average').\n",
      "  \"multioutput='uniform_average').\", FutureWarning)\n"
     ]
    }
   ],
   "source": [
    "RM1 = manage_RM(X_train=X1, y_train=y1, split_ratio=split_ratio, verbose=True, \n",
    "                N_y_bins=N_y_bins, y_vects=y_vects)\n",
    "RM1.init_RM(max_iter=200000, tol=0.00001, solver='lbfgs', activation='tanh',\n",
    "            hidden_layer_sizes=(10,))\n",
    "RM1.train_RM()\n",
    "RM1.predict(scoring=scoring, reduce_by=reduce_by)\n",
    "print(RM1.N_train, RM1.N_in, RM1.N_train_y, RM1.N_out)"
   ]
  },
  {
   "cell_type": "code",
   "execution_count": 5,
   "metadata": {},
   "outputs": [
    {
     "name": "stdout",
     "output_type": "stream",
     "text": [
      "Instantiation. V 0.17\n",
      "train and test sets are obtained by splitting X_train and y_train.\n",
      "input test sets are not used.\n",
      "Training set size = 140, Test set size = 60\n",
      "Discretizing column 0 on 41 bins\n",
      "Discretizing column 0 on 41 bins\n",
      "Training set size = 140, Test set size = 60\n",
      "Regression Model SK_ANN\n",
      "WARNING: training data not scaled\n",
      "Training 2 inputs for 41 outputs with 140 data\n",
      "RM trained, with 24 iterations. Score = -0.217\n",
      "MLPRegressor(activation='relu', alpha=0.0001, batch_size='auto', beta_1=0.9,\n",
      "             beta_2=0.999, early_stopping=False, epsilon=1e-08,\n",
      "             hidden_layer_sizes=(100,), learning_rate='constant',\n",
      "             learning_rate_init=0.001, max_iter=200, momentum=0.9,\n",
      "             n_iter_no_change=10, nesterovs_momentum=True, power_t=0.5,\n",
      "             random_state=None, shuffle=True, solver='adam', tol=0.001,\n",
      "             validation_fraction=0.1, verbose=False, warm_start=False)\n",
      "Training time 0.0 s.\n",
      "WARNING: test data not scaled\n",
      "Score = -0.244\n",
      "Predicting from 2 inputs to 41 outputs using 60 data in 0.00 secs.\n",
      "140 2 140 41\n"
     ]
    },
    {
     "name": "stderr",
     "output_type": "stream",
     "text": [
      "/home/morisset/anaconda3/lib/python3.7/site-packages/sklearn/base.py:420: FutureWarning: The default value of multioutput (not exposed in score method) will change from 'variance_weighted' to 'uniform_average' in 0.23 to keep consistent with 'metrics.r2_score'. To specify the default value manually and avoid the warning, please either call 'metrics.r2_score' directly or make a custom scorer with 'metrics.make_scorer' (the built-in scorer 'r2' uses multioutput='uniform_average').\n",
      "  \"multioutput='uniform_average').\", FutureWarning)\n",
      "/home/morisset/anaconda3/lib/python3.7/site-packages/sklearn/base.py:420: FutureWarning: The default value of multioutput (not exposed in score method) will change from 'variance_weighted' to 'uniform_average' in 0.23 to keep consistent with 'metrics.r2_score'. To specify the default value manually and avoid the warning, please either call 'metrics.r2_score' directly or make a custom scorer with 'metrics.make_scorer' (the built-in scorer 'r2' uses multioutput='uniform_average').\n",
      "  \"multioutput='uniform_average').\", FutureWarning)\n"
     ]
    }
   ],
   "source": [
    "RM2 = manage_RM(X_train=X2, y_train=y1, split_ratio=split_ratio, verbose=True, \n",
    "                N_y_bins=N_y_bins, y_vects=y_vects)\n",
    "RM2.init_RM(max_iter=200, tol=0.001)\n",
    "RM2.train_RM()\n",
    "RM2.predict(scoring=scoring, reduce_by=reduce_by)\n",
    "print(RM2.N_train, RM2.N_in, RM2.N_train_y, RM2.N_out)"
   ]
  },
  {
   "cell_type": "code",
   "execution_count": 6,
   "metadata": {},
   "outputs": [
    {
     "name": "stdout",
     "output_type": "stream",
     "text": [
      "Instantiation. V 0.17\n",
      "train and test sets are obtained by splitting X_train and y_train.\n",
      "input test sets are not used.\n",
      "Training set size = 140, Test set size = 60\n",
      "Discretizing column 0 on 41 bins\n",
      "Discretizing column 1 on 41 bins\n",
      "Discretizing column 0 on 41 bins\n",
      "Discretizing column 1 on 41 bins\n",
      "Training set size = 140, Test set size = 60\n",
      "Regression Model SK_ANN\n",
      "WARNING: training data not scaled\n",
      "Training 1 inputs for 82 outputs with 140 data\n",
      "RM trained, with 20 iterations. Score = 0.000\n",
      "MLPRegressor(activation='relu', alpha=0.0001, batch_size='auto', beta_1=0.9,\n",
      "             beta_2=0.999, early_stopping=False, epsilon=1e-08,\n",
      "             hidden_layer_sizes=(100,), learning_rate='constant',\n",
      "             learning_rate_init=0.001, max_iter=200, momentum=0.9,\n",
      "             n_iter_no_change=10, nesterovs_momentum=True, power_t=0.5,\n",
      "             random_state=None, shuffle=True, solver='adam', tol=0.001,\n",
      "             validation_fraction=0.1, verbose=False, warm_start=False)\n",
      "Training time 0.0 s.\n",
      "WARNING: test data not scaled\n",
      "Score = 0.000\n",
      "Predicting from 1 inputs to 82 outputs using 60 data in 0.00 secs.\n",
      "140 1 140 82\n"
     ]
    },
    {
     "name": "stderr",
     "output_type": "stream",
     "text": [
      "/home/morisset/anaconda3/lib/python3.7/site-packages/sklearn/base.py:420: FutureWarning: The default value of multioutput (not exposed in score method) will change from 'variance_weighted' to 'uniform_average' in 0.23 to keep consistent with 'metrics.r2_score'. To specify the default value manually and avoid the warning, please either call 'metrics.r2_score' directly or make a custom scorer with 'metrics.make_scorer' (the built-in scorer 'r2' uses multioutput='uniform_average').\n",
      "  \"multioutput='uniform_average').\", FutureWarning)\n",
      "/home/morisset/anaconda3/lib/python3.7/site-packages/sklearn/base.py:420: FutureWarning: The default value of multioutput (not exposed in score method) will change from 'variance_weighted' to 'uniform_average' in 0.23 to keep consistent with 'metrics.r2_score'. To specify the default value manually and avoid the warning, please either call 'metrics.r2_score' directly or make a custom scorer with 'metrics.make_scorer' (the built-in scorer 'r2' uses multioutput='uniform_average').\n",
      "  \"multioutput='uniform_average').\", FutureWarning)\n"
     ]
    }
   ],
   "source": [
    "y_vects = [np.linspace(-5,5,41), np.linspace(-6,6,41)]\n",
    "RM3 = manage_RM(X_train=X1, y_train=y2, split_ratio=split_ratio, verbose=True, \n",
    "                N_y_bins=N_y_bins, y_vects=y_vects)\n",
    "RM3.init_RM(max_iter=200, tol=0.001)\n",
    "RM3.train_RM()\n",
    "RM3.predict(scoring=scoring, reduce_by=reduce_by)\n",
    "print(RM3.N_train, RM3.N_in, RM3.N_train_y, RM3.N_out)"
   ]
  },
  {
   "cell_type": "code",
   "execution_count": 7,
   "metadata": {},
   "outputs": [
    {
     "name": "stdout",
     "output_type": "stream",
     "text": [
      "Instantiation. V 0.17\n",
      "train and test sets are obtained by splitting X_train and y_train.\n",
      "input test sets are not used.\n",
      "Training set size = 140, Test set size = 60\n",
      "Discretizing column 0 on 41 bins\n",
      "Discretizing column 1 on 41 bins\n",
      "Discretizing column 0 on 41 bins\n",
      "Discretizing column 1 on 41 bins\n",
      "Training set size = 140, Test set size = 60\n",
      "Regression Model SK_ANN\n",
      "WARNING: training data not scaled\n",
      "Training 1 inputs for 82 outputs with 140 data\n",
      "RM trained, with 22 iterations. Score = 0.000\n",
      "MLPRegressor(activation='relu', alpha=0.0001, batch_size='auto', beta_1=0.9,\n",
      "             beta_2=0.999, early_stopping=False, epsilon=1e-08,\n",
      "             hidden_layer_sizes=(100,), learning_rate='constant',\n",
      "             learning_rate_init=0.001, max_iter=200, momentum=0.9,\n",
      "             n_iter_no_change=10, nesterovs_momentum=True, power_t=0.5,\n",
      "             random_state=None, shuffle=True, solver='adam', tol=0.001,\n",
      "             validation_fraction=0.1, verbose=False, warm_start=False)\n",
      "Training time 0.0 s.\n",
      "WARNING: test data not scaled\n",
      "Score = 0.000\n",
      "Predicting from 1 inputs to 82 outputs using 60 data in 0.00 secs.\n"
     ]
    },
    {
     "name": "stderr",
     "output_type": "stream",
     "text": [
      "/home/morisset/anaconda3/lib/python3.7/site-packages/sklearn/base.py:420: FutureWarning: The default value of multioutput (not exposed in score method) will change from 'variance_weighted' to 'uniform_average' in 0.23 to keep consistent with 'metrics.r2_score'. To specify the default value manually and avoid the warning, please either call 'metrics.r2_score' directly or make a custom scorer with 'metrics.make_scorer' (the built-in scorer 'r2' uses multioutput='uniform_average').\n",
      "  \"multioutput='uniform_average').\", FutureWarning)\n",
      "/home/morisset/anaconda3/lib/python3.7/site-packages/sklearn/base.py:420: FutureWarning: The default value of multioutput (not exposed in score method) will change from 'variance_weighted' to 'uniform_average' in 0.23 to keep consistent with 'metrics.r2_score'. To specify the default value manually and avoid the warning, please either call 'metrics.r2_score' directly or make a custom scorer with 'metrics.make_scorer' (the built-in scorer 'r2' uses multioutput='uniform_average').\n",
      "  \"multioutput='uniform_average').\", FutureWarning)\n"
     ]
    }
   ],
   "source": [
    "RM3 = manage_RM(X_train=X1, y_train=y2, split_ratio=split_ratio, verbose=True, \n",
    "                N_y_bins=N_y_bins, y_vects=y_vects)\n",
    "RM3.init_RM(max_iter=200, tol=0.001)\n",
    "RM3.train_RM()\n",
    "RM3.predict(scoring=scoring, reduce_by=reduce_by)"
   ]
  },
  {
   "cell_type": "code",
   "execution_count": 8,
   "metadata": {},
   "outputs": [
    {
     "name": "stdout",
     "output_type": "stream",
     "text": [
      "Instantiation. V 0.17\n",
      "train and test sets are obtained by splitting X_train and y_train.\n",
      "input test sets are not used.\n",
      "Training set size = 140, Test set size = 60\n",
      "Discretizing column 0 on 41 bins\n",
      "Discretizing column 1 on 41 bins\n",
      "Discretizing column 0 on 41 bins\n",
      "Discretizing column 1 on 41 bins\n",
      "Training set size = 140, Test set size = 60\n",
      "Regression Model SK_ANN\n",
      "WARNING: training data not scaled\n",
      "Training 2 inputs for 82 outputs with 140 data\n",
      "RM trained, with 22 iterations. Score = 0.000\n",
      "MLPRegressor(activation='relu', alpha=0.0001, batch_size='auto', beta_1=0.9,\n",
      "             beta_2=0.999, early_stopping=False, epsilon=1e-08,\n",
      "             hidden_layer_sizes=(100,), learning_rate='constant',\n",
      "             learning_rate_init=0.001, max_iter=200, momentum=0.9,\n",
      "             n_iter_no_change=10, nesterovs_momentum=True, power_t=0.5,\n",
      "             random_state=None, shuffle=True, solver='adam', tol=0.001,\n",
      "             validation_fraction=0.1, verbose=False, warm_start=False)\n",
      "Training time 0.0 s.\n",
      "WARNING: test data not scaled\n",
      "Score = 0.000\n",
      "Predicting from 2 inputs to 82 outputs using 60 data in 0.00 secs.\n",
      "140 2 140 82\n"
     ]
    },
    {
     "name": "stderr",
     "output_type": "stream",
     "text": [
      "/home/morisset/anaconda3/lib/python3.7/site-packages/sklearn/base.py:420: FutureWarning: The default value of multioutput (not exposed in score method) will change from 'variance_weighted' to 'uniform_average' in 0.23 to keep consistent with 'metrics.r2_score'. To specify the default value manually and avoid the warning, please either call 'metrics.r2_score' directly or make a custom scorer with 'metrics.make_scorer' (the built-in scorer 'r2' uses multioutput='uniform_average').\n",
      "  \"multioutput='uniform_average').\", FutureWarning)\n",
      "/home/morisset/anaconda3/lib/python3.7/site-packages/sklearn/base.py:420: FutureWarning: The default value of multioutput (not exposed in score method) will change from 'variance_weighted' to 'uniform_average' in 0.23 to keep consistent with 'metrics.r2_score'. To specify the default value manually and avoid the warning, please either call 'metrics.r2_score' directly or make a custom scorer with 'metrics.make_scorer' (the built-in scorer 'r2' uses multioutput='uniform_average').\n",
      "  \"multioutput='uniform_average').\", FutureWarning)\n"
     ]
    }
   ],
   "source": [
    "RM4 = manage_RM(X_train=X2, y_train=y2, split_ratio=split_ratio, verbose=True, \n",
    "                N_y_bins=N_y_bins, y_vects=y_vects)\n",
    "RM4.init_RM(max_iter=200, tol=0.001)\n",
    "RM4.train_RM()\n",
    "RM4.predict(scoring=scoring, reduce_by=reduce_by)\n",
    "print(RM4.N_train, RM4.N_in, RM4.N_train_y, RM4.N_out)"
   ]
  },
  {
   "cell_type": "code",
   "execution_count": null,
   "metadata": {},
   "outputs": [],
   "source": []
  }
 ],
 "metadata": {
  "kernelspec": {
   "display_name": "Python 3",
   "language": "python",
   "name": "python3"
  },
  "language_info": {
   "codemirror_mode": {
    "name": "ipython",
    "version": 3
   },
   "file_extension": ".py",
   "mimetype": "text/x-python",
   "name": "python",
   "nbconvert_exporter": "python",
   "pygments_lexer": "ipython3",
   "version": "3.7.3"
  }
 },
 "nbformat": 4,
 "nbformat_minor": 2
}
